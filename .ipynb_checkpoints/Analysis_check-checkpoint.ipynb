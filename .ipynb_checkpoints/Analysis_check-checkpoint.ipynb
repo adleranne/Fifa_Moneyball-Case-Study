{
 "cells": [
  {
   "cell_type": "code",
   "execution_count": 7,
   "id": "f2bfe498",
   "metadata": {},
   "outputs": [],
   "source": [
    "import math\n",
    "import numpy as np\n",
    "import pandas as pd\n",
    "import seaborn as sns\n",
    "import matplotlib.pyplot as plt\n",
    "from scipy import stats\n",
    "\n",
    "from sklearn.preprocessing import StandardScaler\n",
    "\n",
    "from sklearn.datasets import load_iris\n",
    "from factor_analyzer import FactorAnalyzer\n",
    "\n",
    "from sklearn import linear_model\n",
    "from sklearn.preprocessing import OrdinalEncoder\n",
    "from sklearn.model_selection import train_test_split\n",
    "from sklearn.metrics import mean_squared_error, r2_score\n",
    "\n",
    "import statsmodels.api as sm\n",
    "from statsmodels.formula.api import ols"
   ]
  },
  {
   "cell_type": "markdown",
   "id": "fdf907a5",
   "metadata": {},
   "source": [
    "# Data Analysis"
   ]
  },
  {
   "cell_type": "markdown",
   "id": "995383cf",
   "metadata": {},
   "source": [
    "### Import cleaned data file"
   ]
  },
  {
   "cell_type": "code",
   "execution_count": 2,
   "id": "859beb5c",
   "metadata": {},
   "outputs": [],
   "source": [
    "data=pd.read_csv('C:/Users/Anne_2/Documents/Ironhack/Fifa_Moneyball-Case-Study/fifa21_cleaned.csv')"
   ]
  },
  {
   "cell_type": "code",
   "execution_count": 3,
   "id": "d29cb61c",
   "metadata": {},
   "outputs": [
    {
     "data": {
      "text/html": [
       "<div>\n",
       "<style scoped>\n",
       "    .dataframe tbody tr th:only-of-type {\n",
       "        vertical-align: middle;\n",
       "    }\n",
       "\n",
       "    .dataframe tbody tr th {\n",
       "        vertical-align: top;\n",
       "    }\n",
       "\n",
       "    .dataframe thead th {\n",
       "        text-align: right;\n",
       "    }\n",
       "</style>\n",
       "<table border=\"1\" class=\"dataframe\">\n",
       "  <thead>\n",
       "    <tr style=\"text-align: right;\">\n",
       "      <th></th>\n",
       "      <th>id</th>\n",
       "      <th>name</th>\n",
       "      <th>age</th>\n",
       "      <th>ova</th>\n",
       "      <th>nationality</th>\n",
       "      <th>club</th>\n",
       "      <th>bp</th>\n",
       "      <th>height</th>\n",
       "      <th>weight</th>\n",
       "      <th>foot</th>\n",
       "      <th>...</th>\n",
       "      <th>gk_reflexes</th>\n",
       "      <th>pac</th>\n",
       "      <th>sho</th>\n",
       "      <th>pas</th>\n",
       "      <th>dri</th>\n",
       "      <th>def</th>\n",
       "      <th>phy</th>\n",
       "      <th>gender</th>\n",
       "      <th>position</th>\n",
       "      <th>market_value</th>\n",
       "    </tr>\n",
       "  </thead>\n",
       "  <tbody>\n",
       "    <tr>\n",
       "      <th>0</th>\n",
       "      <td>16</td>\n",
       "      <td>Luis García</td>\n",
       "      <td>37</td>\n",
       "      <td>71</td>\n",
       "      <td>Spain</td>\n",
       "      <td>KAS Eupen</td>\n",
       "      <td>CM</td>\n",
       "      <td>5'10\"</td>\n",
       "      <td>143lbs</td>\n",
       "      <td>Right</td>\n",
       "      <td>...</td>\n",
       "      <td>11</td>\n",
       "      <td>53</td>\n",
       "      <td>69</td>\n",
       "      <td>73</td>\n",
       "      <td>69</td>\n",
       "      <td>58</td>\n",
       "      <td>63</td>\n",
       "      <td>Male</td>\n",
       "      <td>midfielder</td>\n",
       "      <td>600000</td>\n",
       "    </tr>\n",
       "    <tr>\n",
       "      <th>1</th>\n",
       "      <td>41</td>\n",
       "      <td>Iniesta</td>\n",
       "      <td>36</td>\n",
       "      <td>81</td>\n",
       "      <td>Spain</td>\n",
       "      <td>Vissel Kobe</td>\n",
       "      <td>CAM</td>\n",
       "      <td>5'7\"</td>\n",
       "      <td>150lbs</td>\n",
       "      <td>Right</td>\n",
       "      <td>...</td>\n",
       "      <td>7</td>\n",
       "      <td>58</td>\n",
       "      <td>70</td>\n",
       "      <td>85</td>\n",
       "      <td>85</td>\n",
       "      <td>63</td>\n",
       "      <td>59</td>\n",
       "      <td>Male</td>\n",
       "      <td>midfielder</td>\n",
       "      <td>5500000</td>\n",
       "    </tr>\n",
       "    <tr>\n",
       "      <th>2</th>\n",
       "      <td>80</td>\n",
       "      <td>E. Belözoğlu</td>\n",
       "      <td>38</td>\n",
       "      <td>77</td>\n",
       "      <td>Turkey</td>\n",
       "      <td>Fenerbahçe SK</td>\n",
       "      <td>CM</td>\n",
       "      <td>5'7\"</td>\n",
       "      <td>159lbs</td>\n",
       "      <td>Left</td>\n",
       "      <td>...</td>\n",
       "      <td>8</td>\n",
       "      <td>44</td>\n",
       "      <td>71</td>\n",
       "      <td>83</td>\n",
       "      <td>77</td>\n",
       "      <td>62</td>\n",
       "      <td>66</td>\n",
       "      <td>Male</td>\n",
       "      <td>midfielder</td>\n",
       "      <td>2800000</td>\n",
       "    </tr>\n",
       "    <tr>\n",
       "      <th>3</th>\n",
       "      <td>330</td>\n",
       "      <td>R. Keane</td>\n",
       "      <td>35</td>\n",
       "      <td>80</td>\n",
       "      <td>Republic of Ireland</td>\n",
       "      <td>LA Galaxy</td>\n",
       "      <td>CF</td>\n",
       "      <td>5'9\"</td>\n",
       "      <td>161lbs</td>\n",
       "      <td>Right</td>\n",
       "      <td>...</td>\n",
       "      <td>16</td>\n",
       "      <td>68</td>\n",
       "      <td>82</td>\n",
       "      <td>75</td>\n",
       "      <td>82</td>\n",
       "      <td>31</td>\n",
       "      <td>69</td>\n",
       "      <td>Male</td>\n",
       "      <td>forward</td>\n",
       "      <td>5500000</td>\n",
       "    </tr>\n",
       "    <tr>\n",
       "      <th>4</th>\n",
       "      <td>1179</td>\n",
       "      <td>G. Buffon</td>\n",
       "      <td>42</td>\n",
       "      <td>82</td>\n",
       "      <td>Italy</td>\n",
       "      <td>Juventus</td>\n",
       "      <td>GK</td>\n",
       "      <td>6'4\"</td>\n",
       "      <td>203lbs</td>\n",
       "      <td>Right</td>\n",
       "      <td>...</td>\n",
       "      <td>78</td>\n",
       "      <td>77</td>\n",
       "      <td>76</td>\n",
       "      <td>74</td>\n",
       "      <td>78</td>\n",
       "      <td>33</td>\n",
       "      <td>91</td>\n",
       "      <td>Male</td>\n",
       "      <td>keeper</td>\n",
       "      <td>2200000</td>\n",
       "    </tr>\n",
       "  </tbody>\n",
       "</table>\n",
       "<p>5 rows × 55 columns</p>\n",
       "</div>"
      ],
      "text/plain": [
       "     id          name  age  ova          nationality           club   bp  \\\n",
       "0    16   Luis García   37   71                Spain      KAS Eupen   CM   \n",
       "1    41       Iniesta   36   81                Spain    Vissel Kobe  CAM   \n",
       "2    80  E. Belözoğlu   38   77               Turkey  Fenerbahçe SK   CM   \n",
       "3   330      R. Keane   35   80  Republic of Ireland      LA Galaxy   CF   \n",
       "4  1179     G. Buffon   42   82                Italy       Juventus   GK   \n",
       "\n",
       "  height  weight   foot  ... gk_reflexes pac  sho  pas  dri  def  phy  gender  \\\n",
       "0  5'10\"  143lbs  Right  ...          11  53   69   73   69   58   63    Male   \n",
       "1   5'7\"  150lbs  Right  ...           7  58   70   85   85   63   59    Male   \n",
       "2   5'7\"  159lbs   Left  ...           8  44   71   83   77   62   66    Male   \n",
       "3   5'9\"  161lbs  Right  ...          16  68   82   75   82   31   69    Male   \n",
       "4   6'4\"  203lbs  Right  ...          78  77   76   74   78   33   91    Male   \n",
       "\n",
       "     position  market_value  \n",
       "0  midfielder        600000  \n",
       "1  midfielder       5500000  \n",
       "2  midfielder       2800000  \n",
       "3     forward       5500000  \n",
       "4      keeper       2200000  \n",
       "\n",
       "[5 rows x 55 columns]"
      ]
     },
     "execution_count": 3,
     "metadata": {},
     "output_type": "execute_result"
    }
   ],
   "source": [
    "#view data\n",
    "data.head()"
   ]
  },
  {
   "cell_type": "markdown",
   "id": "d4ebe1d2",
   "metadata": {},
   "source": [
    "#### There are 34 'basic' skills in the data set with a score between 0 and 100. There are also 6 indices (pac,\tsho, pas, dri, def, phy) in the data which are calculated using the 34 basic skills - also having a range from 0 to 100. In the original data set there are another 6 indices out of the 34 basic skills in a different composition but these indices have a different range (values can be higher than 100)."
   ]
  },
  {
   "cell_type": "markdown",
   "id": "32a3335c",
   "metadata": {},
   "source": [
    "#### Since the calculation method of the indices in the data set isn't 100% clear, the analysis will start with a factor analysis of the 34 basic skills, so that the factors can be used in a regression analysis on market value. This will also allow a more detailed analysis than using the already calculated indices."
   ]
  },
  {
   "cell_type": "markdown",
   "id": "5edc6b98",
   "metadata": {},
   "source": [
    "## Factor Analysis of basic skills"
   ]
  },
  {
   "cell_type": "code",
   "execution_count": 4,
   "id": "37b63553",
   "metadata": {},
   "outputs": [
    {
     "data": {
      "text/plain": [
       "Index(['id', 'name', 'age', 'ova', 'nationality', 'club', 'bp', 'height',\n",
       "       'weight', 'foot', 'value', 'wage', 'crossing', 'finishing',\n",
       "       'heading_accuracy', 'short_passing', 'volleys', 'dribbling', 'curve',\n",
       "       'fk_accuracy', 'long_passing', 'ball_control', 'acceleration',\n",
       "       'sprint_speed', 'agility', 'reactions', 'balance', 'shot_power',\n",
       "       'jumping', 'stamina', 'strength', 'long_shots', 'aggression',\n",
       "       'interceptions', 'positioning', 'vision', 'penalties', 'composure',\n",
       "       'marking', 'standing_tackle', 'sliding_tackle', 'gk_diving',\n",
       "       'gk_handling', 'gk_kicking', 'gk_positioning', 'gk_reflexes', 'pac',\n",
       "       'sho', 'pas', 'dri', 'def', 'phy', 'gender', 'position',\n",
       "       'market_value'],\n",
       "      dtype='object')"
      ]
     },
     "execution_count": 4,
     "metadata": {},
     "output_type": "execute_result"
    }
   ],
   "source": [
    "data.columns"
   ]
  },
  {
   "cell_type": "code",
   "execution_count": 5,
   "id": "d9c36eab",
   "metadata": {},
   "outputs": [],
   "source": [
    "#Standardize variables for factor analysis\n",
    "factors=data[['crossing', 'finishing',\n",
    "       'heading_accuracy', 'short_passing', 'volleys', 'dribbling', 'curve',\n",
    "       'fk_accuracy', 'long_passing', 'ball_control', 'acceleration',\n",
    "       'sprint_speed', 'agility', 'reactions', 'balance', 'shot_power',\n",
    "       'jumping', 'stamina', 'strength', 'long_shots', 'aggression',\n",
    "       'interceptions', 'positioning', 'vision', 'penalties', 'composure',\n",
    "       'marking', 'standing_tackle', 'sliding_tackle', 'gk_diving',\n",
    "       'gk_handling', 'gk_kicking', 'gk_positioning', 'gk_reflexes']]\n",
    "transformer = StandardScaler().fit(factors)\n",
    "factors = pd.DataFrame(transformer.transform(factors), columns=factors.columns)"
   ]
  },
  {
   "cell_type": "code",
   "execution_count": 13,
   "id": "52287b85",
   "metadata": {},
   "outputs": [
    {
     "name": "stdout",
     "output_type": "stream",
     "text": [
      "Chi_square: 952138.0277382658 ; p_value: 0.0\n"
     ]
    }
   ],
   "source": [
    "#Bartlett test - are variables uncorrelated?\n",
    "from factor_analyzer.factor_analyzer import calculate_bartlett_sphericity\n",
    "chi_square_value,p_value=calculate_bartlett_sphericity(factors)\n",
    "print('Chi_square:', chi_square_value, '; p_value:', p_value)"
   ]
  },
  {
   "cell_type": "code",
   "execution_count": 15,
   "id": "e95dac35",
   "metadata": {},
   "outputs": [
    {
     "data": {
      "text/plain": [
       "0.9705493736318477"
      ]
     },
     "execution_count": 15,
     "metadata": {},
     "output_type": "execute_result"
    }
   ],
   "source": [
    "#KMO test - measure of sampling adequacy for whole model (should be at least 0.5, best between 0.85 and 1) \n",
    "from factor_analyzer.factor_analyzer import calculate_kmo\n",
    "kmo_all,kmo_model=calculate_kmo(factors)\n",
    "kmo_model"
   ]
  },
  {
   "cell_type": "code",
   "execution_count": 25,
   "id": "2128f8fe",
   "metadata": {},
   "outputs": [
    {
     "data": {
      "text/plain": [
       "(array([17.98661373,  5.19784172,  2.91563142,  1.87221083,  1.38052917,\n",
       "         0.61371814,  0.4555    ,  0.34778241,  0.31626853,  0.2852002 ,\n",
       "         0.26526281,  0.24245119,  0.20975631,  0.2005312 ,  0.19672804,\n",
       "         0.17405565,  0.15603434,  0.13517231,  0.12960107,  0.12096537,\n",
       "         0.10550594,  0.09148513,  0.08968179,  0.07753629,  0.0652116 ,\n",
       "         0.06232297,  0.06099747,  0.05682985,  0.03820303,  0.03450464,\n",
       "         0.03282465,  0.03227828,  0.02830259,  0.02246133]),\n",
       " array([ 1.79099501e+01,  5.11655207e+00,  2.80153128e+00,  1.77032205e+00,\n",
       "         1.15796352e+00,  3.45479859e-01,  3.30515608e-01,  2.08300464e-01,\n",
       "         1.82563363e-01,  1.53034109e-01,  1.14337684e-01,  9.21019168e-02,\n",
       "         6.82995744e-02,  5.80376739e-02,  4.91818457e-02,  3.85031327e-02,\n",
       "         3.63517019e-02,  2.89004907e-02,  2.78784030e-02,  2.42126333e-02,\n",
       "         1.59102622e-02,  1.33937693e-02,  1.22325425e-02,  1.04167953e-02,\n",
       "         9.98371433e-03,  8.68282912e-03,  8.24332534e-03,  7.92226794e-03,\n",
       "         6.37317819e-03,  5.63226168e-03,  3.72199538e-03,  2.80177141e-03,\n",
       "         1.39779576e-03, -7.60621516e-06]))"
      ]
     },
     "execution_count": 25,
     "metadata": {},
     "output_type": "execute_result"
    }
   ],
   "source": [
    "#Choosing number of factors - could choose 6 factors, to replicate the given indices in dataset or\n",
    "#using Kaiser Criterion to choose factors based on eigenvalues (eigenvalue > 1)\n",
    "\n",
    "#Initial Factor analysis with as many factors as variables\n",
    "fa = FactorAnalyzer(n_factors=34, rotation=None)\n",
    "fa.fit(factors)\n",
    "\n",
    "#get the Eigenvalues\n",
    "fa.get_eigenvalues()"
   ]
  },
  {
   "cell_type": "markdown",
   "id": "0988d66a",
   "metadata": {},
   "source": [
    "#### --> there are 5 factors with eigenvalue > 1"
   ]
  },
  {
   "cell_type": "code",
   "execution_count": 37,
   "id": "c32a95cc",
   "metadata": {},
   "outputs": [
    {
     "name": "stdout",
     "output_type": "stream",
     "text": [
      "                         0         1         2         3         4\n",
      "crossing          0.655835  0.294058  0.342049  0.415070 -0.085587\n",
      "finishing         0.794527  0.398334 -0.215675  0.257865  0.099057\n",
      "heading_accuracy  0.305318  0.596600  0.337186 -0.033688  0.548396\n",
      "short_passing     0.693477  0.353689  0.467815  0.233759  0.082598\n",
      "volleys           0.819917  0.362684 -0.110022  0.200410  0.107258\n",
      "dribbling         0.713601  0.442842  0.168820  0.437089  0.006071\n",
      "curve             0.805691  0.271257  0.166112  0.292788 -0.079672\n",
      "fk_accuracy       0.789374  0.237666  0.185099  0.173127 -0.121719\n",
      "long_passing      0.651425  0.178810  0.577740  0.154064 -0.026365\n",
      "ball_control      0.716699  0.460366  0.285233  0.333129  0.093460\n",
      "acceleration      0.293300  0.294282  0.007132  0.864324  0.056841\n",
      "sprint_speed      0.264539  0.328250  0.008706  0.795958  0.143656\n",
      "agility           0.481959  0.182706  0.042331  0.751699 -0.079582\n",
      "reactions         0.586567 -0.315867  0.283751  0.035608  0.408761\n",
      "balance           0.387956  0.201969  0.105466  0.668608 -0.232973\n",
      "shot_power        0.830471  0.047779 -0.058434  0.047826  0.200008\n",
      "jumping           0.009649  0.024998  0.197359  0.168486  0.508088\n",
      "stamina           0.372590  0.344656  0.435986  0.410938  0.297533\n",
      "strength          0.043784  0.076528  0.210668 -0.350197  0.702880\n",
      "long_shots        0.854663  0.328192  0.015576  0.214587  0.065650\n",
      "aggression        0.272009  0.295215  0.635158  0.016365  0.424076\n",
      "interceptions     0.059352  0.155033  0.934921  0.015168  0.168811\n",
      "positioning       0.763772  0.410908 -0.003209  0.355117  0.088748\n",
      "vision            0.844142 -0.009137  0.131621  0.218218 -0.070235\n",
      "penalties         0.753312  0.425350 -0.087799  0.146564  0.115353\n",
      "composure         0.723802  0.036559  0.319415  0.102621  0.303280\n",
      "marking           0.065844  0.219212  0.901762  0.036258  0.172105\n",
      "standing_tackle   0.018797  0.228431  0.942853  0.021961  0.117105\n",
      "sliding_tackle   -0.024953  0.215538  0.941657  0.037029  0.100566\n",
      "gk_diving        -0.297486 -0.847125 -0.304746 -0.260483 -0.044666\n",
      "gk_handling      -0.297288 -0.845647 -0.304128 -0.261836 -0.044449\n",
      "gk_kicking       -0.292809 -0.840951 -0.306799 -0.261558 -0.045333\n",
      "gk_positioning   -0.294245 -0.847496 -0.303010 -0.260533 -0.037326\n",
      "gk_reflexes      -0.298383 -0.846432 -0.308313 -0.260237 -0.041455\n",
      "                          0         1         2         3         4\n",
      "Variance          10.379440  6.215051  5.844086  4.088194  1.892445\n",
      "Proportional Var   0.305278  0.182796  0.171885  0.120241  0.055660\n",
      "Cumulative Var     0.305278  0.488073  0.659958  0.780199  0.835859\n",
      "                  Communalities\n",
      "crossing               0.813195\n",
      "finishing              0.912765\n",
      "heading_accuracy       0.864718\n",
      "short_passing          0.886323\n",
      "volleys                0.867577\n",
      "dribbling              0.924919\n",
      "curve                  0.842384\n",
      "fk_accuracy            0.758646\n",
      "long_passing           0.814542\n",
      "ball_control           0.926663\n",
      "acceleration           0.922964\n",
      "sprint_speed           0.831991\n",
      "agility                0.838843\n",
      "reactions              0.692700\n",
      "balance                0.703738\n",
      "shot_power             0.737670\n",
      "jumping                0.326210\n",
      "stamina                0.705091\n",
      "strength               0.668834\n",
      "long_shots             0.888760\n",
      "aggression             0.744675\n",
      "interceptions          0.930363\n",
      "positioning            0.886187\n",
      "vision                 0.782534\n",
      "penalties              0.790898\n",
      "composure              0.729762\n",
      "marking                0.896499\n",
      "standing_tackle        0.955701\n",
      "sliding_tackle         0.945281\n",
      "gk_diving              0.968835\n",
      "gk_handling            0.966527\n",
      "gk_kicking             0.957529\n",
      "gk_positioning         0.965916\n",
      "gk_reflexes            0.969979\n"
     ]
    }
   ],
   "source": [
    "#Factor analyses with 5 factors\n",
    "fa = FactorAnalyzer(n_factors=5, rotation='varimax')\n",
    "fa.fit(factors)\n",
    "\n",
    "#get the loadings of variables on factors\n",
    "print(pd.DataFrame(fa.loadings_,index=factors.columns))\n",
    "\n",
    "#get the variance explained by factors\n",
    "print(pd.DataFrame(fa.get_factor_variance(),index=['Variance','Proportional Var','Cumulative Var']))\n",
    "\n",
    "#get the communalities of variables (variance of each variable explained by factors)\n",
    "print(pd.DataFrame(fa.get_communalities(),index=factors.columns,columns=['Communalities']))"
   ]
  },
  {
   "cell_type": "markdown",
   "id": "8ced3169",
   "metadata": {},
   "source": [
    "#### --> the last 5 variables - skills for goalkeeping - are all loading negatively on the extracted factors, especially on factor 2, which has only \"heading_accuracy\" loading above 0.5 in positive direction. It makes interpretation of this factor complicated - 'bad goalkeeper' isn't a desirable skill. Explanation could be, that goalkeeper skills are so different and contrary to all other skills, that good keepers always are terrible forwards/midfielders/defenders and the other way around. Taking goalkeeping skills out of factor analysis and let them be their own skill set."
   ]
  },
  {
   "cell_type": "code",
   "execution_count": 41,
   "id": "88157dc0",
   "metadata": {},
   "outputs": [
    {
     "name": "stdout",
     "output_type": "stream",
     "text": [
      "Chi_square: 710654.9723194506 ; p_value: 0.0\n",
      "KMO: 0.9595284119697213\n"
     ]
    }
   ],
   "source": [
    "#two new subsets: factors_player and factors_keeper\n",
    "#starting with factors_player\n",
    "factors_player=data[['crossing', 'finishing',\n",
    "       'heading_accuracy', 'short_passing', 'volleys', 'dribbling', 'curve',\n",
    "       'fk_accuracy', 'long_passing', 'ball_control', 'acceleration',\n",
    "       'sprint_speed', 'agility', 'reactions', 'balance', 'shot_power',\n",
    "       'jumping', 'stamina', 'strength', 'long_shots', 'aggression',\n",
    "       'interceptions', 'positioning', 'vision', 'penalties', 'composure',\n",
    "       'marking', 'standing_tackle', 'sliding_tackle']]\n",
    "\n",
    "#Bartlett test - are variables uncorrelated?\n",
    "chi_square_value,p_value=calculate_bartlett_sphericity(factors_player)\n",
    "print('Chi_square:', chi_square_value, '; p_value:', p_value)\n",
    "                    \n",
    "#KMO test - measure of sampling adequacy for whole model (should be at least 0.5, best between 0.85 and 1) \n",
    "kmo_all,kmo_model=calculate_kmo(factors_player)\n",
    "print('KMO:', kmo_model)"
   ]
  },
  {
   "cell_type": "code",
   "execution_count": 43,
   "id": "e56ee097",
   "metadata": {},
   "outputs": [
    {
     "data": {
      "text/plain": [
       "(array([14.89284686,  5.04034595,  2.29505466,  1.47448115,  0.98138129,\n",
       "         0.60512217,  0.41971542,  0.34380248,  0.31611884,  0.28504897,\n",
       "         0.26366392,  0.24202135,  0.2092924 ,  0.19954051,  0.19093151,\n",
       "         0.16383489,  0.14617914,  0.13228622,  0.12525016,  0.10948954,\n",
       "         0.09313374,  0.08974319,  0.0782919 ,  0.0651808 ,  0.0623171 ,\n",
       "         0.06103464,  0.05681458,  0.0345929 ,  0.02248371]),\n",
       " array([ 1.48027871e+01,  4.95443006e+00,  2.16715711e+00,  1.28438854e+00,\n",
       "         7.74483328e-01,  3.47328493e-01,  3.05679942e-01,  2.07181986e-01,\n",
       "         1.79455534e-01,  1.53575547e-01,  9.63514810e-02,  7.98005906e-02,\n",
       "         6.44667704e-02,  5.75337046e-02,  4.32722986e-02,  3.91999811e-02,\n",
       "         3.52665213e-02,  3.05293206e-02,  2.56474457e-02,  2.54308440e-02,\n",
       "         1.39438129e-02,  1.24969873e-02,  8.94086152e-03,  8.74469150e-03,\n",
       "         8.01239005e-03,  5.93214620e-03,  3.50779439e-03,  1.79925857e-03,\n",
       "        -4.61959179e-06]))"
      ]
     },
     "execution_count": 43,
     "metadata": {},
     "output_type": "execute_result"
    }
   ],
   "source": [
    "#Choosing number of factors (Eigenvalue >1)\n",
    "fa = FactorAnalyzer(n_factors=29, rotation=None)\n",
    "fa.fit(factors_player)\n",
    "fa.get_eigenvalues()"
   ]
  },
  {
   "cell_type": "markdown",
   "id": "bc106c19",
   "metadata": {},
   "source": [
    "#### --> 5 factors with eigenvalue > 1"
   ]
  },
  {
   "cell_type": "code",
   "execution_count": 44,
   "id": "31bdadbd",
   "metadata": {},
   "outputs": [
    {
     "name": "stdout",
     "output_type": "stream",
     "text": [
      "                         0         1         2         3         4\n",
      "crossing          0.683450  0.381139  0.431838 -0.092719  0.095612\n",
      "finishing         0.887506 -0.138818  0.299890  0.144991 -0.017827\n",
      "heading_accuracy  0.454115  0.455810  0.063565  0.625094 -0.155963\n",
      "short_passing     0.716411  0.511980  0.269745  0.084742  0.159626\n",
      "volleys           0.889768 -0.043229  0.236195  0.140423  0.041398\n",
      "dribbling         0.795473  0.240297  0.481376  0.035242  0.010594\n",
      "curve             0.827785  0.203814  0.305668 -0.082671  0.130261\n",
      "fk_accuracy       0.805842  0.218430  0.180919 -0.124103  0.127168\n",
      "long_passing      0.613177  0.584697  0.160324 -0.060167  0.263296\n",
      "ball_control      0.790675  0.356966  0.384364  0.122839  0.048888\n",
      "acceleration      0.351250  0.048942  0.890639  0.054312 -0.017694\n",
      "sprint_speed      0.336230  0.060537  0.831988  0.152463 -0.047435\n",
      "agility           0.480719  0.052314  0.759297 -0.109506  0.145158\n",
      "reactions         0.368190  0.194834 -0.016288  0.275523  0.656294\n",
      "balance           0.408175  0.121257  0.676944 -0.247822  0.060265\n",
      "shot_power        0.776372 -0.055252  0.039534  0.164500  0.296184\n",
      "jumping          -0.027276  0.195565  0.181047  0.476010  0.159029\n",
      "stamina           0.412303  0.485438  0.451831  0.298504  0.073276\n",
      "strength          0.032951  0.232233 -0.320859  0.708485  0.108720\n",
      "long_shots        0.901629  0.071058  0.240848  0.082327  0.096096\n",
      "aggression        0.292333  0.678677  0.059292  0.427579  0.102359\n",
      "interceptions     0.037239  0.944831  0.031261  0.142866  0.120039\n",
      "positioning       0.843330  0.068344  0.396962  0.120707  0.020035\n",
      "vision            0.750887  0.103580  0.193307 -0.134807  0.400052\n",
      "penalties         0.853174 -0.005093  0.194164  0.168157 -0.037093\n",
      "composure         0.621032  0.295716  0.099115  0.242156  0.473613\n",
      "marking           0.068307  0.925422  0.062733  0.160737  0.072285\n",
      "standing_tackle   0.033913  0.973969  0.047116  0.110782  0.016614\n",
      "sliding_tackle   -0.010494  0.970709  0.060638  0.093043  0.006030\n"
     ]
    }
   ],
   "source": [
    "#Factor analyses with 5 factors\n",
    "fa = FactorAnalyzer(n_factors=5, rotation='varimax')\n",
    "fa.fit(factors_player)\n",
    "\n",
    "#get the loadings of variables on factors\n",
    "print(pd.DataFrame(fa.loadings_,index=factors_player.columns))"
   ]
  },
  {
   "cell_type": "markdown",
   "id": "c7ce16af",
   "metadata": {},
   "source": [
    "#### --> Factor 1: crossing, finishing, short_passing, volleys, dribbling, curve, fk_accuracy, long_passing, ball_control, shot_power, long_shots, positioning, vision, penalties, composure --> BALLPOWER/ PLAYING_THE_BALL/ TECHNIC\n",
    "#### --> Factor 2: (short_passing - though higher load on factor 1), (long_passing - though higher load on factor 1), aggression, interceptions, marking, standing_tackle, sliding_tackle, (stamina - though load is a bit below 0.5) --> TACKLING\n",
    "#### --> Factor 3: acceleration, sprint_speed, agility, balance, (aggression - though higher load on factor 2) --> MOVEMENT\n",
    "#### --> Factor 4: heading_accuracy, strength, (jumping - though load is a bit below 0.5) ---> HEADER&STRENGTH\n",
    "#### --> Factor 5: reactions --> REACTIONS"
   ]
  },
  {
   "cell_type": "code",
   "execution_count": 45,
   "id": "fb8f19bc",
   "metadata": {},
   "outputs": [
    {
     "name": "stdout",
     "output_type": "stream",
     "text": [
      "                          0         1         2         3         4\n",
      "Variance          10.573061  5.853452  4.117074  1.886104  1.179924\n",
      "Proportional Var   0.364588  0.201843  0.141968  0.065038  0.040687\n",
      "Cumulative Var     0.364588  0.566431  0.708400  0.773438  0.814125\n"
     ]
    }
   ],
   "source": [
    "#get the variance explained by factors\n",
    "print(pd.DataFrame(fa.get_factor_variance(),index=['Variance','Proportional Var','Cumulative Var']))"
   ]
  },
  {
   "cell_type": "markdown",
   "id": "777963d7",
   "metadata": {},
   "source": [
    "#### --> In total 81% of variance is beeing explained by the factors"
   ]
  },
  {
   "cell_type": "code",
   "execution_count": 46,
   "id": "557706e2",
   "metadata": {},
   "outputs": [
    {
     "name": "stdout",
     "output_type": "stream",
     "text": [
      "                  Communalities\n",
      "crossing               0.816593\n",
      "finishing              0.918211\n",
      "heading_accuracy       0.833091\n",
      "short_passing          0.880792\n",
      "volleys                0.870777\n",
      "dribbling              0.923598\n",
      "curve                  0.844003\n",
      "fk_accuracy            0.761398\n",
      "long_passing           0.816505\n",
      "ball_control           0.917807\n",
      "acceleration           0.922273\n",
      "sprint_speed           0.834415\n",
      "agility                0.843421\n",
      "reactions              0.680424\n",
      "balance                0.704612\n",
      "shot_power             0.722154\n",
      "jumping                0.323643\n",
      "stamina                0.704270\n",
      "strength               0.671740\n",
      "long_shots             0.892005\n",
      "aggression             0.742877\n",
      "interceptions          0.929890\n",
      "positioning            0.888427\n",
      "vision                 0.790142\n",
      "penalties              0.795285\n",
      "composure              0.765902\n",
      "marking                0.896068\n",
      "standing_tackle        0.964535\n",
      "sliding_tackle         0.954756\n"
     ]
    }
   ],
   "source": [
    "#get the communalities of variables (variance of each variable explained by factors)\n",
    "print(pd.DataFrame(fa.get_communalities(),index=factors_player.columns,columns=['Communalities']))"
   ]
  },
  {
   "cell_type": "markdown",
   "id": "ddc05698",
   "metadata": {},
   "source": [
    "#### --> very high communalities, for most variables more than 70% of verance is explained by factors - variable jumping is only one with low explained variance"
   ]
  },
  {
   "cell_type": "code",
   "execution_count": null,
   "id": "04441176",
   "metadata": {},
   "outputs": [],
   "source": []
  }
 ],
 "metadata": {
  "kernelspec": {
   "display_name": "Python 3",
   "language": "python",
   "name": "python3"
  },
  "language_info": {
   "codemirror_mode": {
    "name": "ipython",
    "version": 3
   },
   "file_extension": ".py",
   "mimetype": "text/x-python",
   "name": "python",
   "nbconvert_exporter": "python",
   "pygments_lexer": "ipython3",
   "version": "3.8.8"
  }
 },
 "nbformat": 4,
 "nbformat_minor": 5
}
