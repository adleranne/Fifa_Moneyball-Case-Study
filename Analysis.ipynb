{
 "cells": [
  {
   "cell_type": "code",
   "execution_count": 1,
   "id": "f2bfe498",
   "metadata": {},
   "outputs": [],
   "source": [
    "import math\n",
    "import numpy as np\n",
    "import pandas as pd\n",
    "import seaborn as sns\n",
    "import matplotlib.pyplot as plt\n",
    "from scipy import stats\n",
    "\n",
    "from sklearn.preprocessing import StandardScaler\n",
    "\n",
    "from sklearn.datasets import load_iris\n",
    "from factor_analyzer import FactorAnalyzer\n",
    "\n",
    "from sklearn import linear_model\n",
    "from sklearn.preprocessing import OrdinalEncoder\n",
    "from sklearn.model_selection import train_test_split\n",
    "from sklearn.metrics import mean_squared_error, r2_score\n",
    "\n",
    "import statsmodels.api as sm\n",
    "from statsmodels.formula.api import ols"
   ]
  },
  {
   "cell_type": "markdown",
   "id": "fdf907a5",
   "metadata": {},
   "source": [
    "# Data Analysis"
   ]
  },
  {
   "cell_type": "markdown",
   "id": "995383cf",
   "metadata": {},
   "source": [
    "### Import cleaned data file"
   ]
  },
  {
   "cell_type": "code",
   "execution_count": 2,
   "id": "859beb5c",
   "metadata": {},
   "outputs": [],
   "source": [
    "data=pd.read_csv('C:/Users/Anne_2/Documents/Ironhack/Fifa_Moneyball-Case-Study/fifa21_cleaned.csv')"
   ]
  },
  {
   "cell_type": "code",
   "execution_count": 3,
   "id": "d29cb61c",
   "metadata": {},
   "outputs": [
    {
     "data": {
      "text/html": [
       "<div>\n",
       "<style scoped>\n",
       "    .dataframe tbody tr th:only-of-type {\n",
       "        vertical-align: middle;\n",
       "    }\n",
       "\n",
       "    .dataframe tbody tr th {\n",
       "        vertical-align: top;\n",
       "    }\n",
       "\n",
       "    .dataframe thead th {\n",
       "        text-align: right;\n",
       "    }\n",
       "</style>\n",
       "<table border=\"1\" class=\"dataframe\">\n",
       "  <thead>\n",
       "    <tr style=\"text-align: right;\">\n",
       "      <th></th>\n",
       "      <th>id</th>\n",
       "      <th>name</th>\n",
       "      <th>age</th>\n",
       "      <th>ova</th>\n",
       "      <th>nationality</th>\n",
       "      <th>club</th>\n",
       "      <th>bp</th>\n",
       "      <th>height</th>\n",
       "      <th>weight</th>\n",
       "      <th>foot</th>\n",
       "      <th>...</th>\n",
       "      <th>gk_reflexes</th>\n",
       "      <th>pac</th>\n",
       "      <th>sho</th>\n",
       "      <th>pas</th>\n",
       "      <th>dri</th>\n",
       "      <th>def</th>\n",
       "      <th>phy</th>\n",
       "      <th>gender</th>\n",
       "      <th>position</th>\n",
       "      <th>market_value</th>\n",
       "    </tr>\n",
       "  </thead>\n",
       "  <tbody>\n",
       "    <tr>\n",
       "      <th>0</th>\n",
       "      <td>16</td>\n",
       "      <td>Luis García</td>\n",
       "      <td>37</td>\n",
       "      <td>71</td>\n",
       "      <td>Spain</td>\n",
       "      <td>KAS Eupen</td>\n",
       "      <td>CM</td>\n",
       "      <td>5'10\"</td>\n",
       "      <td>143lbs</td>\n",
       "      <td>Right</td>\n",
       "      <td>...</td>\n",
       "      <td>11</td>\n",
       "      <td>53</td>\n",
       "      <td>69</td>\n",
       "      <td>73</td>\n",
       "      <td>69</td>\n",
       "      <td>58</td>\n",
       "      <td>63</td>\n",
       "      <td>Male</td>\n",
       "      <td>midfielder</td>\n",
       "      <td>0.6</td>\n",
       "    </tr>\n",
       "    <tr>\n",
       "      <th>1</th>\n",
       "      <td>41</td>\n",
       "      <td>Iniesta</td>\n",
       "      <td>36</td>\n",
       "      <td>81</td>\n",
       "      <td>Spain</td>\n",
       "      <td>Vissel Kobe</td>\n",
       "      <td>CAM</td>\n",
       "      <td>5'7\"</td>\n",
       "      <td>150lbs</td>\n",
       "      <td>Right</td>\n",
       "      <td>...</td>\n",
       "      <td>7</td>\n",
       "      <td>58</td>\n",
       "      <td>70</td>\n",
       "      <td>85</td>\n",
       "      <td>85</td>\n",
       "      <td>63</td>\n",
       "      <td>59</td>\n",
       "      <td>Male</td>\n",
       "      <td>midfielder</td>\n",
       "      <td>5.5</td>\n",
       "    </tr>\n",
       "    <tr>\n",
       "      <th>2</th>\n",
       "      <td>80</td>\n",
       "      <td>E. Belözoğlu</td>\n",
       "      <td>38</td>\n",
       "      <td>77</td>\n",
       "      <td>Turkey</td>\n",
       "      <td>Fenerbahçe SK</td>\n",
       "      <td>CM</td>\n",
       "      <td>5'7\"</td>\n",
       "      <td>159lbs</td>\n",
       "      <td>Left</td>\n",
       "      <td>...</td>\n",
       "      <td>8</td>\n",
       "      <td>44</td>\n",
       "      <td>71</td>\n",
       "      <td>83</td>\n",
       "      <td>77</td>\n",
       "      <td>62</td>\n",
       "      <td>66</td>\n",
       "      <td>Male</td>\n",
       "      <td>midfielder</td>\n",
       "      <td>2.8</td>\n",
       "    </tr>\n",
       "    <tr>\n",
       "      <th>3</th>\n",
       "      <td>330</td>\n",
       "      <td>R. Keane</td>\n",
       "      <td>35</td>\n",
       "      <td>80</td>\n",
       "      <td>Republic of Ireland</td>\n",
       "      <td>LA Galaxy</td>\n",
       "      <td>CF</td>\n",
       "      <td>5'9\"</td>\n",
       "      <td>161lbs</td>\n",
       "      <td>Right</td>\n",
       "      <td>...</td>\n",
       "      <td>16</td>\n",
       "      <td>68</td>\n",
       "      <td>82</td>\n",
       "      <td>75</td>\n",
       "      <td>82</td>\n",
       "      <td>31</td>\n",
       "      <td>69</td>\n",
       "      <td>Male</td>\n",
       "      <td>forward</td>\n",
       "      <td>5.5</td>\n",
       "    </tr>\n",
       "    <tr>\n",
       "      <th>4</th>\n",
       "      <td>1179</td>\n",
       "      <td>G. Buffon</td>\n",
       "      <td>42</td>\n",
       "      <td>82</td>\n",
       "      <td>Italy</td>\n",
       "      <td>Juventus</td>\n",
       "      <td>GK</td>\n",
       "      <td>6'4\"</td>\n",
       "      <td>203lbs</td>\n",
       "      <td>Right</td>\n",
       "      <td>...</td>\n",
       "      <td>78</td>\n",
       "      <td>77</td>\n",
       "      <td>76</td>\n",
       "      <td>74</td>\n",
       "      <td>78</td>\n",
       "      <td>33</td>\n",
       "      <td>91</td>\n",
       "      <td>Male</td>\n",
       "      <td>keeper</td>\n",
       "      <td>2.2</td>\n",
       "    </tr>\n",
       "  </tbody>\n",
       "</table>\n",
       "<p>5 rows × 55 columns</p>\n",
       "</div>"
      ],
      "text/plain": [
       "     id          name  age  ova          nationality           club   bp  \\\n",
       "0    16   Luis García   37   71                Spain      KAS Eupen   CM   \n",
       "1    41       Iniesta   36   81                Spain    Vissel Kobe  CAM   \n",
       "2    80  E. Belözoğlu   38   77               Turkey  Fenerbahçe SK   CM   \n",
       "3   330      R. Keane   35   80  Republic of Ireland      LA Galaxy   CF   \n",
       "4  1179     G. Buffon   42   82                Italy       Juventus   GK   \n",
       "\n",
       "  height  weight   foot  ... gk_reflexes pac  sho  pas  dri  def  phy  gender  \\\n",
       "0  5'10\"  143lbs  Right  ...          11  53   69   73   69   58   63    Male   \n",
       "1   5'7\"  150lbs  Right  ...           7  58   70   85   85   63   59    Male   \n",
       "2   5'7\"  159lbs   Left  ...           8  44   71   83   77   62   66    Male   \n",
       "3   5'9\"  161lbs  Right  ...          16  68   82   75   82   31   69    Male   \n",
       "4   6'4\"  203lbs  Right  ...          78  77   76   74   78   33   91    Male   \n",
       "\n",
       "     position  market_value  \n",
       "0  midfielder           0.6  \n",
       "1  midfielder           5.5  \n",
       "2  midfielder           2.8  \n",
       "3     forward           5.5  \n",
       "4      keeper           2.2  \n",
       "\n",
       "[5 rows x 55 columns]"
      ]
     },
     "execution_count": 3,
     "metadata": {},
     "output_type": "execute_result"
    }
   ],
   "source": [
    "#view data\n",
    "data.head()"
   ]
  },
  {
   "cell_type": "markdown",
   "id": "d4ebe1d2",
   "metadata": {},
   "source": [
    "#### There are 34 'basic' skills in the data set with a score between 0 and 100. There are also 6 indices (pac,\tsho, pas, dri, def, phy) in the data which are calculated using the 34 basic skills - also having a range from 0 to 100. In the original data set there are another 6 indices out of the 34 basic skills in a different composition but these indices have a different range (values can be higher than 100)."
   ]
  },
  {
   "cell_type": "markdown",
   "id": "32a3335c",
   "metadata": {},
   "source": [
    "#### Since the calculation method of the indices in the data set isn't 100% clear, the analysis will start with a factor analysis of the 34 basic skills, so that the factors can be used in a regression analysis on market value. This will also allow a more detailed analysis than using the already calculated indices."
   ]
  },
  {
   "cell_type": "markdown",
   "id": "5edc6b98",
   "metadata": {},
   "source": [
    "## Factor Analysis of basic skills"
   ]
  },
  {
   "cell_type": "code",
   "execution_count": 4,
   "id": "6624a794",
   "metadata": {},
   "outputs": [
    {
     "data": {
      "text/plain": [
       "Index(['id', 'name', 'age', 'ova', 'nationality', 'club', 'bp', 'height',\n",
       "       'weight', 'foot', 'value', 'wage', 'crossing', 'finishing',\n",
       "       'heading_accuracy', 'short_passing', 'volleys', 'dribbling', 'curve',\n",
       "       'fk_accuracy', 'long_passing', 'ball_control', 'acceleration',\n",
       "       'sprint_speed', 'agility', 'reactions', 'balance', 'shot_power',\n",
       "       'jumping', 'stamina', 'strength', 'long_shots', 'aggression',\n",
       "       'interceptions', 'positioning', 'vision', 'penalties', 'composure',\n",
       "       'marking', 'standing_tackle', 'sliding_tackle', 'gk_diving',\n",
       "       'gk_handling', 'gk_kicking', 'gk_positioning', 'gk_reflexes', 'pac',\n",
       "       'sho', 'pas', 'dri', 'def', 'phy', 'gender', 'position',\n",
       "       'market_value'],\n",
       "      dtype='object')"
      ]
     },
     "execution_count": 4,
     "metadata": {},
     "output_type": "execute_result"
    }
   ],
   "source": [
    "data.columns"
   ]
  },
  {
   "cell_type": "code",
   "execution_count": 5,
   "id": "d9c36eab",
   "metadata": {},
   "outputs": [],
   "source": [
    "#Standardize variables for factor analysis\n",
    "factors=data[['crossing', 'finishing',\n",
    "       'heading_accuracy', 'short_passing', 'volleys', 'dribbling', 'curve',\n",
    "       'fk_accuracy', 'long_passing', 'ball_control', 'acceleration',\n",
    "       'sprint_speed', 'agility', 'reactions', 'balance', 'shot_power',\n",
    "       'jumping', 'stamina', 'strength', 'long_shots', 'aggression',\n",
    "       'interceptions', 'positioning', 'vision', 'penalties', 'composure',\n",
    "       'marking', 'standing_tackle', 'sliding_tackle', 'gk_diving',\n",
    "       'gk_handling', 'gk_kicking', 'gk_positioning', 'gk_reflexes']]\n",
    "transformer = StandardScaler().fit(factors)\n",
    "factors = pd.DataFrame(transformer.transform(factors), columns=factors.columns)"
   ]
  },
  {
   "cell_type": "code",
   "execution_count": 6,
   "id": "4a2855aa",
   "metadata": {},
   "outputs": [
    {
     "name": "stdout",
     "output_type": "stream",
     "text": [
      "Chi_square: 791454.2961172038 ; p_value: 0.0\n"
     ]
    }
   ],
   "source": [
    "#Bartlett test - are variables uncorrelated?\n",
    "from factor_analyzer.factor_analyzer import calculate_bartlett_sphericity\n",
    "chi_square_value,p_value=calculate_bartlett_sphericity(factors)\n",
    "print('Chi_square:', chi_square_value, '; p_value:', p_value)"
   ]
  },
  {
   "cell_type": "code",
   "execution_count": 7,
   "id": "46e7d695",
   "metadata": {},
   "outputs": [
    {
     "name": "stdout",
     "output_type": "stream",
     "text": [
      "(array([0.98486161, 0.97298238, 0.96247161, 0.96814615, 0.98603326,\n",
      "       0.97802705, 0.97799106, 0.97415165, 0.96291575, 0.97550124,\n",
      "       0.9261291 , 0.92931045, 0.97728513, 0.93306176, 0.95925541,\n",
      "       0.96440942, 0.86756023, 0.98709081, 0.82589862, 0.97484251,\n",
      "       0.98442721, 0.9616226 , 0.97851187, 0.98027659, 0.98572264,\n",
      "       0.98098025, 0.98009368, 0.90973658, 0.91136016, 0.98076712,\n",
      "       0.98268309, 0.98535015, 0.98269791, 0.98051946]), 0.970116067650148)\n"
     ]
    },
    {
     "name": "stderr",
     "output_type": "stream",
     "text": [
      "C:\\Users\\Anne_2\\anaconda3\\lib\\site-packages\\factor_analyzer\\utils.py:249: UserWarning: The inverse of the variance-covariance matrix was calculated using the Moore-Penrose generalized matrix inversion, due to its determinant being at or very close to zero.\n",
      "  warnings.warn('The inverse of the variance-covariance matrix '\n"
     ]
    }
   ],
   "source": [
    "#KMO test - measure of sampling adequacy for whole model (should be at least 0.5, best between 0.85 and 1) \n",
    "from factor_analyzer.factor_analyzer import calculate_kmo\n",
    "kmo_model=calculate_kmo(factors)\n",
    "print(kmo_model)"
   ]
  },
  {
   "cell_type": "markdown",
   "id": "abe5c69b",
   "metadata": {},
   "source": [
    "#### --> MSA per variable, as well as KMO for whole model way above 0.5, all variables can be taken into account"
   ]
  },
  {
   "cell_type": "code",
   "execution_count": 8,
   "id": "f18a58e4",
   "metadata": {},
   "outputs": [
    {
     "data": {
      "text/plain": [
       "(array([17.75250033,  5.25819106,  2.80049731,  1.86566797,  1.3672949 ,\n",
       "         0.62153033,  0.4938456 ,  0.38483424,  0.33386741,  0.31224638,\n",
       "         0.28570655,  0.25886543,  0.22735048,  0.21154783,  0.20911086,\n",
       "         0.19064759,  0.16447915,  0.14512111,  0.13658922,  0.13069418,\n",
       "         0.11407283,  0.09927054,  0.09230268,  0.08501972,  0.06992013,\n",
       "         0.06724365,  0.06417539,  0.060506  ,  0.03919148,  0.03889783,\n",
       "         0.03413188,  0.03317895,  0.02904051,  0.02246044]),\n",
       " array([17.75250033,  5.25819106,  2.80049731,  1.86566797,  1.3672949 ,\n",
       "         0.62153033,  0.4938456 ,  0.38483424,  0.33386741,  0.31224638,\n",
       "         0.28570655,  0.25886543,  0.22735048,  0.21154783,  0.20911086,\n",
       "         0.19064759,  0.16447915,  0.14512111,  0.13658922,  0.13069418,\n",
       "         0.11407283,  0.09927054,  0.09230268,  0.08501972,  0.06992013,\n",
       "         0.06724365,  0.06417539,  0.060506  ,  0.03919148,  0.03889783,\n",
       "         0.03413188,  0.03317895,  0.02904051,  0.02246044]))"
      ]
     },
     "execution_count": 8,
     "metadata": {},
     "output_type": "execute_result"
    }
   ],
   "source": [
    "#Choosing number of factors - could choose 6 factors, to replicate the given indices in dataset or\n",
    "#using Kaiser Criterion to choose factors based on eigenvalues (eigenvalue > 1)\n",
    "\n",
    "#Initial Factor analysis with as many factors as variables\n",
    "fa = FactorAnalyzer(n_factors=34, rotation=None, method='principal')\n",
    "fa.fit(factors)\n",
    "\n",
    "#get the Eigenvalues\n",
    "fa.get_eigenvalues()"
   ]
  },
  {
   "cell_type": "markdown",
   "id": "dc01aadf",
   "metadata": {},
   "source": [
    "#### --> there are 5 factors with eigenvalue > 1"
   ]
  },
  {
   "cell_type": "code",
   "execution_count": 9,
   "id": "f5cf6fbf",
   "metadata": {},
   "outputs": [
    {
     "name": "stdout",
     "output_type": "stream",
     "text": [
      "                         0         1         2         3         4\n",
      "crossing          0.626388  0.355619  0.280383  0.459245 -0.088347\n",
      "finishing         0.773278 -0.229538  0.435871  0.261066  0.078301\n",
      "heading_accuracy  0.301851  0.361845  0.660509 -0.096922  0.451340\n",
      "short_passing     0.663488  0.483669  0.374819  0.249330  0.039375\n",
      "volleys           0.805423 -0.117302  0.401138  0.202207  0.085762\n",
      "dribbling         0.681904  0.164594  0.463171  0.460216 -0.006410\n",
      "curve             0.786279  0.167113  0.268123  0.329852 -0.084320\n",
      "fk_accuracy       0.785646  0.204184  0.217667  0.211629 -0.136400\n",
      "long_passing      0.634382  0.599408  0.160241  0.182383 -0.069007\n",
      "ball_control      0.686412  0.290477  0.488819  0.348185  0.063991\n",
      "acceleration      0.259523  0.003859  0.335293  0.835635  0.094688\n",
      "sprint_speed      0.229107 -0.000632  0.374271  0.783954  0.167215\n",
      "agility           0.444495  0.038438  0.182250  0.791745  0.003231\n",
      "reactions         0.583090  0.295054 -0.332940 -0.034321  0.444246\n",
      "balance           0.341894  0.107120  0.161140  0.773122 -0.147528\n",
      "shot_power        0.846706 -0.091667  0.076301  0.006424  0.175276\n",
      "jumping          -0.036354  0.183863  0.020054  0.230782  0.771144\n",
      "stamina           0.323386  0.452269  0.368999  0.409380  0.328718\n",
      "strength          0.066485  0.221052  0.159629 -0.486569  0.669249\n",
      "long_shots        0.842840  0.006336  0.347115  0.227132  0.062016\n",
      "aggression        0.265321  0.674526  0.308673 -0.028774  0.381347\n",
      "interceptions     0.037422  0.943651  0.146468  0.013097  0.135186\n",
      "positioning       0.741171 -0.004683  0.440459  0.366708  0.077241\n",
      "vision            0.839120  0.117161 -0.020114  0.249909 -0.091946\n",
      "penalties         0.744237 -0.094314  0.470381  0.144387  0.098399\n",
      "composure         0.729148  0.331984  0.061015  0.062520  0.286558\n",
      "marking           0.043410  0.918511  0.213937  0.032496  0.128417\n",
      "standing_tackle  -0.003874  0.946897  0.219891  0.024220  0.074944\n",
      "sliding_tackle   -0.041648  0.946176  0.204685  0.041247  0.061636\n",
      "gk_diving        -0.298695 -0.335441 -0.823458 -0.284282 -0.022859\n",
      "gk_handling      -0.299144 -0.333491 -0.822914 -0.284895 -0.022733\n",
      "gk_kicking       -0.293861 -0.337633 -0.819322 -0.284175 -0.021970\n",
      "gk_positioning   -0.294587 -0.332377 -0.825118 -0.283420 -0.015819\n",
      "gk_reflexes      -0.299614 -0.338198 -0.822499 -0.284953 -0.019133\n"
     ]
    }
   ],
   "source": [
    "#Factor analyses with 5 factors\n",
    "fa = FactorAnalyzer(n_factors=5, method='principal', rotation='varimax')\n",
    "fa.fit(factors)\n",
    "\n",
    "#get the loadings of variables on factors\n",
    "print(pd.DataFrame(fa.loadings_,index=factors.columns))"
   ]
  },
  {
   "cell_type": "markdown",
   "id": "1066e7c6",
   "metadata": {},
   "source": [
    "#### --> the skills for goalkeeping - are all loading negatively on the extracted factors, especially on factor 3, which has only \"heading_accuracy\" loading above 0.5 in positive direction. It makes interpretation of this factor complicated - 'bad goalkeeper' isn't a desirable skill. Furhermore, a huge bunch of skills loads very high on factor 1, while factors 2, 4 and 5 only combine high loads from very few skills.\n",
    "#### --> Possible explanation: the skillset of a player depends on the position the player is trained for - especially goalkeeping seems to be its very unique skillset which is even correlating negatively with the other skills.\n",
    "#### --> Solution: spliiting dataset by position already for factor analysis."
   ]
  },
  {
   "cell_type": "code",
   "execution_count": 10,
   "id": "b18adffd",
   "metadata": {},
   "outputs": [],
   "source": [
    "#splitting dataset by position\n",
    "positions = data.groupby(data.position)\n",
    "data_forward = positions.get_group('forward')\n",
    "data_midfielder = positions.get_group('midfielder')\n",
    "data_defender = positions.get_group('defender')\n",
    "data_keeper = positions.get_group('keeper')"
   ]
  },
  {
   "cell_type": "code",
   "execution_count": 11,
   "id": "b4acc1c6",
   "metadata": {},
   "outputs": [],
   "source": [
    "#resetting index of new dataframes to avoid problems later when concatenating with factors from factor analysis\n",
    "#(factors will have index from 0 to size of subdataset, subdata has index from original dataframe)\n",
    "data_forward = data_forward.reset_index()\n",
    "data_midfielder = data_midfielder.reset_index()\n",
    "data_defender = data_defender.reset_index()\n",
    "data_keeper = data_keeper.reset_index()"
   ]
  },
  {
   "cell_type": "code",
   "execution_count": 12,
   "id": "32edd33e",
   "metadata": {},
   "outputs": [
    {
     "name": "stdout",
     "output_type": "stream",
     "text": [
      "midfielder    5895\n",
      "defender      4755\n",
      "forward       2306\n",
      "keeper        1353\n",
      "Name: position, dtype: int64\n",
      "Midfielder dataset: (5895, 56)\n",
      "Defender dataset: (4755, 56)\n",
      "Forward dataset:  (2306, 56)\n",
      "Keeper dataset: (1353, 56)\n"
     ]
    }
   ],
   "source": [
    "#crosscheck with value counts in whole dataset:\n",
    "print(data['position'].value_counts())\n",
    "print('Midfielder dataset:', data_midfielder.shape)\n",
    "print('Defender dataset:', data_defender.shape)\n",
    "print('Forward dataset: ', data_forward.shape)\n",
    "print('Keeper dataset:', data_keeper.shape)"
   ]
  },
  {
   "cell_type": "markdown",
   "id": "cb288506",
   "metadata": {},
   "source": [
    "## 1. Factor Analysis for forwarders"
   ]
  },
  {
   "cell_type": "code",
   "execution_count": 13,
   "id": "e399488e",
   "metadata": {},
   "outputs": [
    {
     "name": "stdout",
     "output_type": "stream",
     "text": [
      "Chi_square: 53635.00191804673 ; p_value: 0.0\n",
      "(array([0.96859606, 0.95849612, 0.95166482, 0.96961183, 0.97773763,\n",
      "       0.94118133, 0.94895332, 0.95068984, 0.95328435, 0.95323201,\n",
      "       0.75475371, 0.73854874, 0.89779722, 0.97344509, 0.80763715,\n",
      "       0.96695632, 0.84385143, 0.93530464, 0.87164588, 0.96770026,\n",
      "       0.95593631, 0.95403171, 0.95440301, 0.97491405, 0.96791263,\n",
      "       0.97968737, 0.97162709, 0.85651102, 0.828074  , 0.74301942,\n",
      "       0.72724652, 0.8096026 , 0.60865453, 0.73021412]), 0.9409411375356272)\n"
     ]
    }
   ],
   "source": [
    "#splitting dataset\n",
    "factors_forward=data_forward[['crossing', 'finishing',\n",
    "       'heading_accuracy', 'short_passing', 'volleys', 'dribbling', 'curve',\n",
    "       'fk_accuracy', 'long_passing', 'ball_control', 'acceleration',\n",
    "       'sprint_speed', 'agility', 'reactions', 'balance', 'shot_power',\n",
    "       'jumping', 'stamina', 'strength', 'long_shots', 'aggression',\n",
    "       'interceptions', 'positioning', 'vision', 'penalties', 'composure',\n",
    "       'marking', 'standing_tackle', 'sliding_tackle', 'gk_diving',\n",
    "       'gk_handling', 'gk_kicking', 'gk_positioning', 'gk_reflexes']]\n",
    "\n",
    "#Bartlett test - are variables uncorrelated?\n",
    "chi_square_value,p_value=calculate_bartlett_sphericity(factors_forward)\n",
    "print('Chi_square:', chi_square_value, '; p_value:', p_value)\n",
    "                    \n",
    "#KMO test - measure of sampling adequacy for whole model (should be at least 0.5, best between 0.85 and 1) \n",
    "from factor_analyzer.factor_analyzer import calculate_kmo\n",
    "kmo_model=calculate_kmo(factors_forward)\n",
    "print(kmo_model)"
   ]
  },
  {
   "cell_type": "code",
   "execution_count": 14,
   "id": "32d345ad",
   "metadata": {},
   "outputs": [
    {
     "data": {
      "text/plain": [
       "(array([11.49145037,  3.78926957,  2.60938005,  1.68063065,  1.24531156,\n",
       "         1.01521042,  0.97495172,  0.95400224,  0.926222  ,  0.88907233,\n",
       "         0.83085867,  0.68626734,  0.6538289 ,  0.56450116,  0.54727125,\n",
       "         0.5136154 ,  0.42808854,  0.38433355,  0.34902837,  0.34562164,\n",
       "         0.33285111,  0.31998224,  0.30945702,  0.27400813,  0.25965951,\n",
       "         0.24476682,  0.23481582,  0.22613558,  0.21327381,  0.19811043,\n",
       "         0.14412895,  0.13698221,  0.12481173,  0.10210089]),\n",
       " array([11.49145037,  3.78926957,  2.60938005,  1.68063065,  1.24531156,\n",
       "         1.01521042,  0.97495172,  0.95400224,  0.926222  ,  0.88907233,\n",
       "         0.83085867,  0.68626734,  0.6538289 ,  0.56450116,  0.54727125,\n",
       "         0.5136154 ,  0.42808854,  0.38433355,  0.34902837,  0.34562164,\n",
       "         0.33285111,  0.31998224,  0.30945702,  0.27400813,  0.25965951,\n",
       "         0.24476682,  0.23481582,  0.22613558,  0.21327381,  0.19811043,\n",
       "         0.14412895,  0.13698221,  0.12481173,  0.10210089]))"
      ]
     },
     "execution_count": 14,
     "metadata": {},
     "output_type": "execute_result"
    }
   ],
   "source": [
    "#Choosing number of factors (Eigenvalue >1)\n",
    "fa = FactorAnalyzer(n_factors=34, method='principal', rotation=None)\n",
    "fa.fit(factors_forward)\n",
    "fa.get_eigenvalues()"
   ]
  },
  {
   "cell_type": "markdown",
   "id": "a9a8f195",
   "metadata": {},
   "source": [
    "#### --> 6 factors with eigenvalue > 1"
   ]
  },
  {
   "cell_type": "code",
   "execution_count": 15,
   "id": "2d0ccf68",
   "metadata": {},
   "outputs": [
    {
     "name": "stdout",
     "output_type": "stream",
     "text": [
      "                         0         1         2         3         4         5\n",
      "crossing          0.609154  0.259216  0.400133 -0.169412  0.048471 -0.186939\n",
      "finishing         0.826686 -0.036190 -0.058772  0.193836 -0.004407  0.191040\n",
      "heading_accuracy  0.578684 -0.354253  0.095086  0.442331  0.005270  0.293578\n",
      "short_passing     0.808190  0.099184  0.267806  0.084738 -0.011279 -0.042480\n",
      "volleys           0.812352 -0.065477  0.116125  0.131822  0.056454  0.100009\n",
      "dribbling         0.767763  0.419048  0.077003  0.023878 -0.010006 -0.097852\n",
      "curve             0.705142  0.059160  0.237158 -0.243809  0.068988 -0.103665\n",
      "fk_accuracy       0.658039 -0.057381  0.260645 -0.261607  0.112784 -0.098411\n",
      "long_passing      0.609951  0.111789  0.484236 -0.093653  0.016349 -0.158306\n",
      "ball_control      0.852533  0.163481  0.118691  0.139373 -0.002992  0.018905\n",
      "acceleration     -0.045035  0.918626 -0.015299 -0.145892 -0.009775  0.011714\n",
      "sprint_speed     -0.051819  0.910153 -0.029257  0.010944 -0.011018 -0.013769\n",
      "agility           0.188653  0.753023  0.023182 -0.351037 -0.016140  0.209029\n",
      "reactions         0.793638  0.011230  0.147594  0.176130  0.028396  0.223402\n",
      "balance           0.020944  0.506888  0.029633 -0.622672 -0.023779  0.300442\n",
      "shot_power        0.779448 -0.003162  0.139213  0.307534  0.079811  0.059636\n",
      "jumping           0.181576  0.241512  0.092140  0.006465  0.042095  0.768409\n",
      "stamina           0.166773  0.455540  0.283214  0.339124  0.086432  0.308992\n",
      "strength          0.296723 -0.191575  0.139002  0.764480  0.104077  0.065575\n",
      "long_shots        0.800282  0.002428  0.097382  0.029816  0.066068  0.028869\n",
      "aggression        0.338472 -0.041767  0.443625  0.424635  0.087145  0.283129\n",
      "interceptions     0.256357 -0.011473  0.801591  0.015619  0.059495  0.100989\n",
      "positioning       0.828087 -0.042943  0.106576  0.228646  0.028086  0.222727\n",
      "vision            0.697265  0.039722  0.363272 -0.085418  0.030196 -0.051373\n",
      "penalties         0.637538 -0.217426 -0.051345 -0.058524  0.008776  0.297170\n",
      "composure         0.789082 -0.057433  0.190360  0.143495  0.075554  0.172996\n",
      "marking           0.238650  0.031906  0.669230  0.082820  0.038255  0.083337\n",
      "standing_tackle   0.174592 -0.028292  0.879250  0.085713  0.007968  0.003286\n",
      "sliding_tackle    0.091862  0.016603  0.884175  0.023699 -0.000250 -0.013712\n",
      "gk_diving         0.014095 -0.013159  0.061875  0.056318  0.516300 -0.011517\n",
      "gk_handling       0.026475 -0.061451  0.027859 -0.136910  0.533808  0.135199\n",
      "gk_kicking        0.038739 -0.048128  0.024666 -0.039738  0.495178  0.076028\n",
      "gk_positioning   -0.001491  0.076276  0.010169  0.095631  0.372651 -0.044899\n",
      "gk_reflexes       0.069504  0.018929 -0.045042  0.064526  0.544575 -0.079698\n"
     ]
    }
   ],
   "source": [
    "#Factor analyses with 6 factors\n",
    "fa = FactorAnalyzer(n_factors=6, method='principal', rotation='varimax')\n",
    "fa.fit(factors_forward)\n",
    "\n",
    "#get the loadings of variables on factors\n",
    "print(pd.DataFrame(fa.loadings_,index=factors_forward.columns))"
   ]
  },
  {
   "cell_type": "markdown",
   "id": "c7400c60",
   "metadata": {},
   "source": [
    "#### --> there are two factors (4 and 6), that have only one skill with positive loading > 0.5 (strength for factor 4 and jumping for factor 6) and additionally some skills are not loading above 0.5 on any of the factors --> reducing factors to 5."
   ]
  },
  {
   "cell_type": "code",
   "execution_count": 16,
   "id": "7e0405c9",
   "metadata": {},
   "outputs": [
    {
     "name": "stdout",
     "output_type": "stream",
     "text": [
      "                         0         1         2         3         4\n",
      "crossing          0.594225  0.286059  0.428803 -0.160442  0.029042\n",
      "finishing         0.830361 -0.066346 -0.062816  0.250715  0.001907\n",
      "heading_accuracy  0.587966 -0.441714  0.072478  0.439195  0.019790\n",
      "short_passing     0.799950  0.067937  0.284630  0.078165 -0.028649\n",
      "volleys           0.812655 -0.083121  0.119055  0.152326  0.058680\n",
      "dribbling         0.753969  0.378613  0.103371  0.062598 -0.046401\n",
      "curve             0.699624  0.140276  0.258328 -0.224722  0.073879\n",
      "fk_accuracy       0.655128  0.038768  0.279105 -0.260924  0.125529\n",
      "long_passing      0.597441  0.125747  0.507801 -0.114516  0.001249\n",
      "ball_control      0.845689  0.116407  0.132273  0.163680 -0.021990\n",
      "acceleration     -0.064987  0.902477 -0.003958  0.102351 -0.041794\n",
      "sprint_speed     -0.073284  0.834848 -0.016234  0.208154 -0.059835\n",
      "agility           0.178050  0.851477  0.019036  0.018456  0.003402\n",
      "reactions         0.794056 -0.013286  0.140140  0.276800  0.039602\n",
      "balance           0.020553  0.730609  0.011926 -0.198675  0.045006\n",
      "shot_power        0.775532 -0.094525  0.145539  0.282515  0.058459\n",
      "jumping           0.191196  0.318581  0.031006  0.506564  0.124501\n",
      "stamina           0.155623  0.338602  0.263674  0.562483  0.071840\n",
      "strength          0.293668 -0.440493  0.133378  0.601233  0.053608\n",
      "long_shots        0.798630  0.007444  0.107674  0.046152  0.063608\n",
      "aggression        0.335251 -0.152680  0.421101  0.508564  0.091221\n",
      "interceptions     0.247178 -0.002172  0.793687  0.107565  0.076139\n",
      "positioning       0.829866 -0.081700  0.099008  0.303115  0.037233\n",
      "vision            0.690257  0.071218  0.378347 -0.068985  0.031337\n",
      "penalties         0.649972 -0.132694 -0.069715  0.072272  0.061505\n",
      "composure         0.789531 -0.071416  0.186303  0.209036  0.087387\n",
      "marking           0.229503  0.011623  0.663393  0.152985  0.044222\n",
      "standing_tackle   0.162143 -0.056597  0.877664  0.105934  0.008831\n",
      "sliding_tackle    0.078532  0.003820  0.883487  0.057996  0.001684\n",
      "gk_diving         0.011467 -0.034281  0.064441  0.042317  0.502710\n",
      "gk_handling       0.030263  0.009281  0.017719 -0.037757  0.558699\n",
      "gk_kicking        0.040138 -0.020498  0.019660  0.007186  0.504826\n",
      "gk_positioning   -0.006260  0.030141  0.016140  0.070621  0.350089\n",
      "gk_reflexes       0.065835 -0.014734 -0.034834  0.011872  0.521297\n"
     ]
    }
   ],
   "source": [
    "#Factor analyses with 5 factors\n",
    "fa = FactorAnalyzer(n_factors=5, method='principal', rotation='varimax')\n",
    "fa.fit(factors_forward)\n",
    "\n",
    "#get the loadings of variables on factors\n",
    "print(pd.DataFrame(fa.loadings_,index=factors_forward.columns))"
   ]
  },
  {
   "attachments": {
    "image-3.png": {
     "image/png": "[encoded data removed]"
    }
   },
   "cell_type": "markdown",
   "id": "2f288d0a",
   "metadata": {},
   "source": [
    "#### Factor loadings sorted\n",
    "![image-3.png](attachment:image-3.png)"
   ]
  },
  {
   "cell_type": "code",
   "execution_count": 17,
   "id": "c4c15ae4",
   "metadata": {},
   "outputs": [
    {
     "name": "stdout",
     "output_type": "stream",
     "text": [
      "                         0         1         2         3         4\n",
      "Variance          9.783021  3.740272  3.857454  2.122014  1.313255\n",
      "Proportional Var  0.287736  0.110008  0.113455  0.062412  0.038625\n",
      "Cumulative Var    0.287736  0.397744  0.511198  0.573611  0.612236\n"
     ]
    }
   ],
   "source": [
    "#get the variance explained by factors\n",
    "print(pd.DataFrame(fa.get_factor_variance(),index=['Variance','Proportional Var','Cumulative Var']))"
   ]
  },
  {
   "cell_type": "markdown",
   "id": "38710331",
   "metadata": {},
   "source": [
    "#### --> 61% of total variance is explained by the 5 extracted factors"
   ]
  },
  {
   "cell_type": "code",
   "execution_count": 18,
   "id": "743fa684",
   "metadata": {},
   "outputs": [
    {
     "data": {
      "text/plain": [
       "Index(['index', 'id', 'name', 'age', 'ova', 'nationality', 'club', 'bp',\n",
       "       'height', 'weight', 'foot', 'value', 'wage', 'crossing', 'finishing',\n",
       "       'heading_accuracy', 'short_passing', 'volleys', 'dribbling', 'curve',\n",
       "       'fk_accuracy', 'long_passing', 'ball_control', 'acceleration',\n",
       "       'sprint_speed', 'agility', 'reactions', 'balance', 'shot_power',\n",
       "       'jumping', 'stamina', 'strength', 'long_shots', 'aggression',\n",
       "       'interceptions', 'positioning', 'vision', 'penalties', 'composure',\n",
       "       'marking', 'standing_tackle', 'sliding_tackle', 'gk_diving',\n",
       "       'gk_handling', 'gk_kicking', 'gk_positioning', 'gk_reflexes', 'pac',\n",
       "       'sho', 'pas', 'dri', 'def', 'phy', 'gender', 'position', 'market_value',\n",
       "       'ball_play', 'movement', 'defense', 'physical', 'goalkeeping'],\n",
       "      dtype='object')"
      ]
     },
     "execution_count": 18,
     "metadata": {},
     "output_type": "execute_result"
    }
   ],
   "source": [
    "#save factors to dataframe\n",
    "forward_skills=pd.DataFrame(fa.transform(factors_forward), columns=['ball_play', 'movement', 'defense', 'physical', 'goalkeeping'])\n",
    "data_forward=pd.concat([data_forward, forward_skills], axis=1)\n",
    "data_forward.columns"
   ]
  },
  {
   "cell_type": "code",
   "execution_count": 19,
   "id": "2118076f",
   "metadata": {},
   "outputs": [
    {
     "data": {
      "text/plain": [
       "(2306, 61)"
      ]
     },
     "execution_count": 19,
     "metadata": {},
     "output_type": "execute_result"
    }
   ],
   "source": [
    "data_forward.shape"
   ]
  },
  {
   "cell_type": "markdown",
   "id": "6534a1d6",
   "metadata": {},
   "source": [
    "## 1b. Regression Analysis for forward"
   ]
  },
  {
   "cell_type": "code",
   "execution_count": 20,
   "id": "7365164f",
   "metadata": {},
   "outputs": [
    {
     "data": {
      "image/png": "[encoded data removed]",
      "text/plain": [
       "<Figure size 1080x360 with 15 Axes>"
      ]
     },
     "metadata": {
      "needs_background": "light"
     },
     "output_type": "display_data"
    }
   ],
   "source": [
    "#Checking linear relationship and distribution\n",
    "fig, ax = plt.subplots(3,5, figsize=(15,5))\n",
    "sns.regplot(ax=ax[0,0], data=data_forward, x='ball_play', y='market_value', line_kws={\"color\":\"r\",\"alpha\":0.7,\"lw\":3})\n",
    "sns.regplot(ax=ax[0,1], data=data_forward, x='movement', y='market_value', line_kws={\"color\":\"r\",\"alpha\":0.7,\"lw\":3})\n",
    "sns.regplot(ax=ax[0,2], data=data_forward, x='defense', y='market_value', line_kws={\"color\":\"r\",\"alpha\":0.7,\"lw\":3})\n",
    "sns.regplot(ax=ax[0,3], data=data_forward, x='physical', y='market_value', line_kws={\"color\":\"r\",\"alpha\":0.7,\"lw\":3})\n",
    "sns.regplot(ax=ax[0,4], data=data_forward, x='goalkeeping', y='market_value', line_kws={\"color\":\"r\",\"alpha\":0.7,\"lw\":3})\n",
    "sns.kdeplot(data_forward['ball_play'], ax=ax[1,0])\n",
    "sns.kdeplot(data_forward['movement'], ax=ax[1,1])\n",
    "sns.kdeplot(data_forward['defense'], ax=ax[1,2])\n",
    "sns.kdeplot(data_forward['physical'], ax=ax[1,3])\n",
    "sns.kdeplot(data_forward['goalkeeping'], ax=ax[1,4])\n",
    "sns.kdeplot(data_forward['market_value'], ax=ax[2,0])\n",
    "plt.show()"
   ]
  },
  {
   "cell_type": "code",
   "execution_count": 21,
   "id": "1cf905e5",
   "metadata": {},
   "outputs": [
    {
     "data": {
      "image/png": "[encoded data removed]",
      "text/plain": [
       "<Figure size 432x288 with 2 Axes>"
      ]
     },
     "metadata": {
      "needs_background": "light"
     },
     "output_type": "display_data"
    }
   ],
   "source": [
    "#Checking correlations matrix\n",
    "regression_data=data_forward[['market_value', 'ball_play', 'movement', 'defense', 'physical', 'goalkeeping']]\n",
    "sns.heatmap(round(regression_data.corr(),2), annot=True, annot_kws={\"size\": 10})\n",
    "plt.show()"
   ]
  },
  {
   "cell_type": "markdown",
   "id": "958aac54",
   "metadata": {},
   "source": [
    "#### --> correlation matrix shows, that only ball_play has a high correlation with market_value, physical a low positive correlation and movement a very low correlation. Defense and goalkeeping are not correlated"
   ]
  },
  {
   "cell_type": "code",
   "execution_count": 22,
   "id": "f061dbc5",
   "metadata": {},
   "outputs": [
    {
     "name": "stdout",
     "output_type": "stream",
     "text": [
      "                            OLS Regression Results                            \n",
      "==============================================================================\n",
      "Dep. Variable:           market_value   R-squared:                       0.573\n",
      "Model:                            OLS   Adj. R-squared:                  0.573\n",
      "Method:                 Least Squares   F-statistic:                     1030.\n",
      "Date:                Thu, 20 Jan 2022   Prob (F-statistic):               0.00\n",
      "Time:                        12:13:56   Log-Likelihood:                -2665.8\n",
      "No. Observations:                2306   AIC:                             5340.\n",
      "Df Residuals:                    2302   BIC:                             5363.\n",
      "Df Model:                           3                                         \n",
      "Covariance Type:            nonrobust                                         \n",
      "==============================================================================\n",
      "                 coef    std err          t      P>|t|      [0.025      0.975]\n",
      "------------------------------------------------------------------------------\n",
      "const          1.1302      0.016     70.532      0.000       1.099       1.162\n",
      "ball_play      0.8226      0.016     51.336      0.000       0.791       0.854\n",
      "movement       0.1346      0.016      8.400      0.000       0.103       0.166\n",
      "physical       0.3143      0.016     19.616      0.000       0.283       0.346\n",
      "==============================================================================\n",
      "Omnibus:                      530.362   Durbin-Watson:                   1.901\n",
      "Prob(Omnibus):                  0.000   Jarque-Bera (JB):             1219.062\n",
      "Skew:                           1.278   Prob(JB):                    1.92e-265\n",
      "Kurtosis:                       5.480   Cond. No.                         1.00\n",
      "==============================================================================\n",
      "\n",
      "Notes:\n",
      "[1] Standard Errors assume that the covariance matrix of the errors is correctly specified.\n"
     ]
    }
   ],
   "source": [
    "# running regression with ball_play, movement and physical\n",
    "\n",
    "#Defining independent (X) and dependent (Y) for regression\n",
    "X = data_forward[['ball_play', 'movement', 'physical']]\n",
    "Y = data_forward['market_value']\n",
    "\n",
    "#No need to standardize X variables, as factors are already standardized\n",
    "\n",
    "X = sm.add_constant(X)\n",
    "model = sm.OLS(Y,X).fit()\n",
    "print(model.summary())"
   ]
  },
  {
   "cell_type": "markdown",
   "id": "e1a4b20d",
   "metadata": {},
   "source": [
    "### About 50% of variance in market value of forward players is explained by the 3 factors ball_play, movement and physical. Ball_play is the biggest driver of the market value, it has about 2.5 times higher impact than physical skills and 7 to 8 times as much impact than movement (running fast, being agile etc)."
   ]
  },
  {
   "cell_type": "markdown",
   "id": "f9377279",
   "metadata": {},
   "source": [
    "### Model validation of regression"
   ]
  },
  {
   "cell_type": "code",
   "execution_count": 23,
   "id": "baf50d25",
   "metadata": {},
   "outputs": [
    {
     "data": {
      "text/plain": [
       "0.5721141082248088"
      ]
     },
     "execution_count": 23,
     "metadata": {},
     "output_type": "execute_result"
    }
   ],
   "source": [
    "#Train test split\n",
    "X_train,X_test, y_train, y_test = train_test_split(X,Y, test_size= 0.40, random_state=100)\n",
    "\n",
    "#Running linear regression\n",
    "lm = linear_model.LinearRegression()\n",
    "model = lm.fit(X_train, y_train)\n",
    "predictions = lm.predict(X_test)\n",
    "r2_score(y_test, predictions)"
   ]
  },
  {
   "cell_type": "code",
   "execution_count": 24,
   "id": "5d8551c3",
   "metadata": {},
   "outputs": [],
   "source": [
    "y_test_predict=model.predict(X_test)\n",
    "y_train_predict=model.predict(X_train)\n",
    "\n",
    "residual_test = (y_test - y_test_predict)\n",
    "residual_train = (y_train - y_train_predict)"
   ]
  },
  {
   "cell_type": "code",
   "execution_count": 30,
   "id": "fbc66442",
   "metadata": {},
   "outputs": [
    {
     "data": {
      "image/png": "[encoded data removed]",
      "text/plain": [
       "<Figure size 432x288 with 4 Axes>"
      ]
     },
     "metadata": {
      "needs_background": "light"
     },
     "output_type": "display_data"
    }
   ],
   "source": [
    "fig, ax = plt.subplots(2,2)\n",
    "\n",
    "sns.regplot(ax=ax[0,0], x=y_test, y=y_test_predict, line_kws={\"color\":\"r\",\"alpha\":0.7,\"lw\":3})\n",
    "sns.regplot(ax=ax[0,1], x=y_train, y=y_train_predict, line_kws={\"color\":\"r\",\"alpha\":0.7,\"lw\":3})\n",
    "sns.kdeplot(residual_test, ax=ax[1,0])\n",
    "sns.kdeplot(residual_train, ax=ax[1,1])\n",
    "plt.show()"
   ]
  },
  {
   "cell_type": "code",
   "execution_count": null,
   "id": "9070d24a",
   "metadata": {},
   "outputs": [],
   "source": []
  }
 ],
 "metadata": {
  "kernelspec": {
   "display_name": "Python 3",
   "language": "python",
   "name": "python3"
  },
  "language_info": {
   "codemirror_mode": {
    "name": "ipython",
    "version": 3
   },
   "file_extension": ".py",
   "mimetype": "text/x-python",
   "name": "python",
   "nbconvert_exporter": "python",
   "pygments_lexer": "ipython3",
   "version": "3.8.8"
  }
 },
 "nbformat": 4,
 "nbformat_minor": 5
}
